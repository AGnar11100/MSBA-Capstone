{
 "cells": [
  {
   "cell_type": "code",
   "execution_count": 1,
   "id": "b3dd68e6",
   "metadata": {},
   "outputs": [],
   "source": [
    "import pandas as pd "
   ]
  },
  {
   "cell_type": "code",
   "execution_count": 2,
   "id": "59d75ef4",
   "metadata": {},
   "outputs": [],
   "source": [
    "try:\n",
    "    ev_pop_df = pd.read_csv('Electric_Vehicle_Population_Data_20240920.csv')\n",
    "    zipcounty_df = pd.read_csv('ZIP-COUNTY-FIPS_2017-06.csv')\n",
    "    sizehist_df = pd.read_csv('Electric_Vehicle_Population_Size_History.csv')\n",
    "    stationlocs_df = pd.read_csv('alt_fuel_stations (Sep 21 2024).csv')\n",
    "    powerplants_df = pd.read_csv('Power_Plants.csv')\n",
    "except:\n",
    "    print('A dataset is missing from pwd')"
   ]
  },
  {
   "cell_type": "code",
   "execution_count": 3,
   "id": "c0ca1ae6",
   "metadata": {},
   "outputs": [
    {
     "name": "stdout",
     "output_type": "stream",
     "text": [
      "Index(['Postal Code', 'County', 'Area Code'], dtype='object') Postal Code           99125\n",
      "County         Adams County\n",
      "Area Code             53001\n",
      "Name: 49222, dtype: object\n"
     ]
    }
   ],
   "source": [
    "# ZIP-COUNTY-FIPS_2017-06.csv Processing \n",
    "# get only the ZIPs in WA\n",
    "wa_zip = zipcounty_df.loc[zipcounty_df['STATE'] == 'WA']\n",
    "wa_zip_cpy = wa_zip.copy()\n",
    "wa_zip_cpy.drop(['CLASSFP', 'STATE'], inplace=True, axis=1)\n",
    "\n",
    "wa_zips_rename_map = {\n",
    "    'ZIP': 'Postal Code',\n",
    "    'COUNTYNAME': 'County',\n",
    "    'STCOUNTYFP': 'Area Code',\n",
    "}\n",
    "\n",
    "# Using rename method with the dictionary\n",
    "wa_zip_cpy = wa_zip_cpy.rename(columns=wa_zips_rename_map) \n",
    "# create dictionary of all the zipcodes that belong to specific county\n",
    "washzip_dict = wa_zip.groupby('ZIP')['COUNTYNAME'].apply(list).to_dict()\n",
    "wa_zip_cpy.columns\n",
    "print(wa_zip_cpy.columns, wa_zip_cpy.iloc[0,:])"
   ]
  },
  {
   "cell_type": "code",
   "execution_count": 4,
   "id": "e541c75a",
   "metadata": {},
   "outputs": [
    {
     "name": "stdout",
     "output_type": "stream",
     "text": [
      "Index(['County', 'City', 'State', 'Postal_Code', 'Model_Year', 'Make', 'Model',\n",
      "       'Electric_Vehicle_Type',\n",
      "       'Clean_Alternative_Fuel_Vehicle_(CAFV)_Eligibility', 'Electric_Range',\n",
      "       'Legislative_District', 'DOL_Vehicle_ID', 'Electric_Utility',\n",
      "       '2020_Census_Tract', 'Longitude', 'Latitude'],\n",
      "      dtype='object') County                                                                                Kitsap\n",
      "City                                                                                 Seabeck\n",
      "State                                                                                     WA\n",
      "Postal_Code                                                                            98380\n",
      "Model_Year                                                                              2023\n",
      "Make                                                                                  TOYOTA\n",
      "Model                                                                             RAV4 PRIME\n",
      "Electric_Vehicle_Type                                 Plug-in Hybrid Electric Vehicle (PHEV)\n",
      "Clean_Alternative_Fuel_Vehicle_(CAFV)_Eligibility    Clean Alternative Fuel Vehicle Eligible\n",
      "Electric_Range                                                                          42.0\n",
      "Legislative_District                                                                    35.0\n",
      "DOL_Vehicle_ID                                                                     240684006\n",
      "Electric_Utility                                                      PUGET SOUND ENERGY INC\n",
      "2020_Census_Tract                                                              53035091301.0\n",
      "Longitude                                                                       -122.8728334\n",
      "Latitude                                                                          47.5798304\n",
      "Name: 0, dtype: object\n"
     ]
    }
   ],
   "source": [
    "# Electric_Vehicle_Population_Data_20240920.csv Processing  \n",
    "# underscorify\n",
    "ev_pop_df.columns = ev_pop_df.columns.str.replace(' ', '_')\n",
    "\n",
    "# good practice\n",
    "ev_df = ev_pop_df.copy()\n",
    "\n",
    "# two word names make into one a\n",
    "ev_df.Make = ev_df.Make.str.replace(' ', '')\n",
    "\n",
    "# drop NAs\n",
    "columns_to_check = ['Legislative_District', 'Model', 'County', 'City', 'Electric_Utility', '2020_Census_Tract', 'Vehicle_Location', 'Electric_Range', 'Base_MSRP']\n",
    "ev_df = ev_df.dropna(subset=columns_to_check)\n",
    "\n",
    "# Extract longitude (first coordinate) and latitude (second coordinate) from 'POINT' data\n",
    "ev_df['Longitude'] = ev_df['Vehicle_Location'].str.extract(r'POINT \\(([-\\d\\.]+) [-\\d\\.]+\\)')\n",
    "ev_df['Latitude'] = ev_df['Vehicle_Location'].str.extract(r'POINT \\([-\\d\\.]+ ([-\\d\\.]+)\\)')\n",
    "\n",
    "# Drop Vehicle Location Column\n",
    "ev_df.drop(['Vehicle_Location', 'Base_MSRP', 'VIN_(1-10)'], inplace=True, axis=1)\n",
    "\n",
    "# convert Postal code into INT\n",
    "ev_df['Postal_Code'] = ev_df['Postal_Code'].astype(int)\n",
    "print(ev_df.columns, ev_df.iloc[0,:])"
   ]
  },
  {
   "cell_type": "code",
   "execution_count": 5,
   "id": "dc9b1483",
   "metadata": {},
   "outputs": [
    {
     "name": "stdout",
     "output_type": "stream",
     "text": [
      "Empty DataFrame\n",
      "Columns: [Date, Plug-In Hybrid Electric Vehicle (PHEV) Count, Battery Electric Vehicle (BEV) Count, Electric Vehicle (EV) Total]\n",
      "Index: []\n",
      "No Duplicates\n",
      "\n",
      "No Null Values\n",
      "\n",
      "Index(['Date', 'Plug-In Hybrid Electric Vehicle (PHEV) Count',\n",
      "       'Battery Electric Vehicle (BEV) Count', 'Electric Vehicle (EV) Total'],\n",
      "      dtype='object') Date                                            January 31 2017\n",
      "Plug-In Hybrid Electric Vehicle (PHEV) Count               7688\n",
      "Battery Electric Vehicle (BEV) Count                      14741\n",
      "Electric Vehicle (EV) Total                               22429\n",
      "Name: 0, dtype: object\n"
     ]
    }
   ],
   "source": [
    "# Electric_Vehicle_Population_Size_History.csv Processing\n",
    "\n",
    "# Check Duplicates\n",
    "print(sizehist_df.loc[sizehist_df.duplicated()])\n",
    "print(\"No Duplicates\")\n",
    "print()\n",
    "\n",
    "# check for null values\n",
    "sizehist_df.isnull().sum()\n",
    "print('No Null Values')\n",
    "print()\n",
    "print(sizehist_df.columns, sizehist_df.iloc[0,:])"
   ]
  },
  {
   "cell_type": "code",
   "execution_count": 6,
   "id": "e9ea59db",
   "metadata": {
    "scrolled": true
   },
   "outputs": [
    {
     "name": "stdout",
     "output_type": "stream",
     "text": [
      "(2705, 75)\n",
      "Index(['Fuel_Type_Code', 'Station_Name', 'City', 'State', 'ZIP', 'Status_Code',\n",
      "       'Groups_With_Access_Code', 'Access_Days_Time', 'EV_Network',\n",
      "       'Geocode_Status', 'Latitude', 'Longitude', 'Date_Last_Confirmed', 'ID',\n",
      "       'Updated_At', 'Open_Date', 'EV_Connector_Types', 'Country',\n",
      "       'Groups_With_Access_Code_(French)', 'Access_Code',\n",
      "       'EV_Workplace_Charging'],\n",
      "      dtype='object') Fuel_Type_Code                                                   ELEC\n",
      "Station_Name                        City of Lacey - City Hall Parking\n",
      "City                                                            Lacey\n",
      "State                                                              WA\n",
      "ZIP                                                             98503\n",
      "Status_Code                                                         E\n",
      "Groups_With_Access_Code                                        Public\n",
      "Access_Days_Time                                       24 hours daily\n",
      "EV_Network                                              Non-Networked\n",
      "Geocode_Status                                                  200-9\n",
      "Latitude                                                    47.044011\n",
      "Longitude                                                 -122.822404\n",
      "Date_Last_Confirmed                                        2023-01-10\n",
      "ID                                                              33351\n",
      "Updated_At                                    2023-02-14 15:54:11 UTC\n",
      "Open_Date                                                  2018-01-15\n",
      "EV_Connector_Types                                              J1772\n",
      "Country                                                            US\n",
      "Groups_With_Access_Code_(French)                               Public\n",
      "Access_Code                                                    public\n",
      "EV_Workplace_Charging                                           False\n",
      "Name: 0, dtype: object\n"
     ]
    }
   ],
   "source": [
    "# alt_fuel_stations (Sep 21 2024).csv Processing\n",
    "print(stationlocs_df.shape)\n",
    "\n",
    "# No duplicates\n",
    "stationlocs_df.loc[stationlocs_df.duplicated()]\n",
    "\n",
    "useless_cols = ['Plus4', 'BD Blends', 'NG Fill Type Code', 'NG PSI', 'EV Other Info', 'Hydrogen Status Link', \n",
    "                'NG Vehicle Class', 'LPG Primary', 'E85 Blender Pump', 'Intersection Directions (French)', \n",
    "                'Access Days Time (French)', 'BD Blends (French)', 'Hydrogen Is Retail', 'CNG Dispenser Num', \n",
    "                'CNG On-Site Renewable Source', 'CNG Total Compression Capacity', 'CNG Storage Capacity', \n",
    "                'LNG On-Site Renewable Source', 'E85 Other Ethanol Blends', 'EV Pricing (French)', 'LPG Nozzle Types', \n",
    "                'Hydrogen Pressures', 'Hydrogen Standards', 'CNG Fill Type Code', 'CNG PSI', 'CNG Vehicle Class', \n",
    "                'LNG Vehicle Class', 'RD Blends', 'RD Blends (French)', 'RD Blended with Biodiesel', 'RD Maximum Biodiesel Level', \n",
    "                'CNG Station Sells Renewable Natural Gas', 'LNG Station Sells Renewable Natural Gas', 'Funding Sources', 'Street Address',\n",
    "               'Intersection Directions', 'Station Phone', 'Expected Date', 'Cards Accepted', 'EV Level1 EVSE Num', 'EV Level2 EVSE Num',\n",
    "               'EV DC Fast Count', 'EV Network Web', 'Owner Type Code', 'Federal Agency ID', 'Federal Agency Name', 'Access Detail Code',\n",
    "               'Federal Agency Code','Facility Type', 'EV Pricing', 'EV On-Site Renewable Source', 'Restricted Access', 'NPS Unit Name', \n",
    "               'Maximum Vehicle Class']\n",
    "\n",
    "# drop columns with no values for all rows\n",
    "stationlocs_df = stationlocs_df.drop(useless_cols, axis=1)\n",
    "\n",
    "# scorify variable names\n",
    "stationlocs_df.columns = stationlocs_df.columns.str.replace(' ', '_')\n",
    "# show columns with missing values to determine which to drop\n",
    "print(stationlocs_df.columns, stationlocs_df.iloc[0,:])"
   ]
  },
  {
   "cell_type": "code",
   "execution_count": 7,
   "id": "7a397e12",
   "metadata": {},
   "outputs": [
    {
     "name": "stdout",
     "output_type": "stream",
     "text": [
      "Index(['X', 'Y', 'OBJECTID', 'Plant_Code', 'Plant_Name', 'Utility_ID',\n",
      "       'Utility_Name', 'sector_name', 'City', 'County', 'State', 'Zip',\n",
      "       'PrimSource', 'source_desc', 'tech_desc', 'Install_MW', 'Total_MW',\n",
      "       'Bat_MW', 'Bio_MW', 'Coal_MW', 'Geo_MW', 'Hydro_MW', 'HydroPS_MW',\n",
      "       'NG_MW', 'Nuclear_MW', 'Crude_MW', 'Solar_MW', 'Wind_MW', 'Other_MW',\n",
      "       'Source', 'Period', 'Longitude', 'Latitude'],\n",
      "      dtype='object') X                                     -13621609.4909\n",
      "Y                                       5955096.4539\n",
      "OBJECTID                                       23631\n",
      "Plant_Code                                        99\n",
      "Plant_Name                              Frederickson\n",
      "Utility_ID                                     15500\n",
      "Utility_Name                  Puget Sound Energy Inc\n",
      "sector_name                         Electric Utility\n",
      "City                                          Tacoma\n",
      "County                                        Pierce\n",
      "State                                     Washington\n",
      "Zip                                          98446.0\n",
      "PrimSource                               natural gas\n",
      "source_desc                     Natural Gas = 134 MW\n",
      "tech_desc       Natural Gas Fired Combustion Turbine\n",
      "Install_MW                                     177.8\n",
      "Total_MW                                       134.0\n",
      "Bat_MW                                           NaN\n",
      "Bio_MW                                           NaN\n",
      "Coal_MW                                          NaN\n",
      "Geo_MW                                           NaN\n",
      "Hydro_MW                                         NaN\n",
      "HydroPS_MW                                       NaN\n",
      "NG_MW                                          134.0\n",
      "Nuclear_MW                                       NaN\n",
      "Crude_MW                                         NaN\n",
      "Solar_MW                                         NaN\n",
      "Wind_MW                                          NaN\n",
      "Other_MW                                         NaN\n",
      "Source                 EIA-860, EIA-860M and EIA-923\n",
      "Period                                        202311\n",
      "Longitude                                   -122.365\n",
      "Latitude                                   47.079722\n",
      "Name: 53, dtype: object\n"
     ]
    },
    {
     "name": "stderr",
     "output_type": "stream",
     "text": [
      "C:\\Users\\naran\\AppData\\Local\\Temp\\ipykernel_20100\\2577350356.py:3: SettingWithCopyWarning: \n",
      "A value is trying to be set on a copy of a slice from a DataFrame\n",
      "\n",
      "See the caveats in the documentation: https://pandas.pydata.org/pandas-docs/stable/user_guide/indexing.html#returning-a-view-versus-a-copy\n",
      "  wa_powerplants_df.drop(['Street_Address'], inplace=True, axis=1)\n"
     ]
    }
   ],
   "source": [
    "# Power_Plants.csv Processing\n",
    "wa_powerplants_df = powerplants_df.loc[powerplants_df['State'] == 'Washington' ,:]\n",
    "wa_powerplants_df.drop(['Street_Address'], inplace=True, axis=1)\n",
    "print(wa_powerplants_df.columns, wa_powerplants_df.iloc[0,:])"
   ]
  },
  {
   "cell_type": "code",
   "execution_count": 8,
   "id": "be3246dd",
   "metadata": {},
   "outputs": [],
   "source": [
    "# # have to drop columns where ZIP Code is 'OOS' (out of state) so I can convert ZIP Code to int for mapping to work w/o err \n",
    "# ev_df.drop(ev_df[ev_df['ZIP_Code'] == 'OOS'].index, inplace=True) \n",
    "\n",
    "# # converting zip to int \n",
    "# ev_df.ZIP_Code = ev_df.ZIP_Code.astype(int)\n",
    "\n",
    "# # create new column 'County' in fuel df using county dictionary\n",
    "# ev_df['County'] = ev_df['ZIP_Code'].map(calizip_dict)\n",
    "\n",
    "# # since a vehicle can be registered in multiple county, we will just take the first to simplify\n",
    "# ev_df['County'] = ev_df['County'][0][0]"
   ]
  }
 ],
 "metadata": {
  "kernelspec": {
   "display_name": "Python 3 (ipykernel)",
   "language": "python",
   "name": "python3"
  },
  "language_info": {
   "codemirror_mode": {
    "name": "ipython",
    "version": 3
   },
   "file_extension": ".py",
   "mimetype": "text/x-python",
   "name": "python",
   "nbconvert_exporter": "python",
   "pygments_lexer": "ipython3",
   "version": "3.11.5"
  }
 },
 "nbformat": 4,
 "nbformat_minor": 5
}
